{
 "cells": [
  {
   "cell_type": "code",
   "execution_count": 1,
   "metadata": {},
   "outputs": [],
   "source": [
    "import pandas as pd\n",
    "import numpy as np\n",
    "import matplotlib.pyplot as plt\n",
    "from sklearn.preprocessing import StandardScaler,Normalizer\n",
    "from sklearn.preprocessing import LabelEncoder, OneHotEncoder\n",
    "from sklearn import datasets\n",
    "from sklearn.cluster import KMeans\n",
    "from sklearn.metrics import accuracy_score\n",
    "from sklearn.model_selection import train_test_split\n",
    "from xgboost import XGBClassifier"
   ]
  },
  {
   "cell_type": "code",
   "execution_count": 2,
   "metadata": {},
   "outputs": [],
   "source": [
    "class MultiColumnLabelEncoder:\n",
    "    def __init__(self,columns = None):\n",
    "        self.columns = columns # array of column names to encode\n",
    "\n",
    "    def fit(self,X,y=None):\n",
    "        return self # not relevant here\n",
    "\n",
    "    def transform(self,X):\n",
    "        output = X.copy()\n",
    "        if self.columns is not None:\n",
    "            for col in self.columns:\n",
    "                output[col] = LabelEncoder().fit_transform(output[col])\n",
    "        else:\n",
    "            for colname,col in output.iteritems():\n",
    "                output[colname] = LabelEncoder().fit_transform(col)\n",
    "        return output\n",
    "\n",
    "    def fit_transform(self,X,y=None):\n",
    "        return self.fit(X,y).transform(X)"
   ]
  },
  {
   "cell_type": "code",
   "execution_count": 3,
   "metadata": {},
   "outputs": [
    {
     "name": "stderr",
     "output_type": "stream",
     "text": [
      "D:\\Anaconda\\lib\\site-packages\\IPython\\core\\interactiveshell.py:3058: DtypeWarning: Columns (7,8,10,11,12) have mixed types. Specify dtype option on import or set low_memory=False.\n",
      "  interactivity=interactivity, compiler=compiler, result=result)\n"
     ]
    }
   ],
   "source": [
    "# Загрузили DF\n",
    "carsDF = pd.read_csv(\"C:/Users/kazan/Desktop/carsdataset.csv\")\n",
    "carsDF = carsDF[['maker',\n",
    "          'model',\n",
    "          'mileage',\n",
    "          'manufacture_year',\n",
    "          'engine_displacement',\n",
    "          'engine_power',\n",
    "          'price_eur',\n",
    "         'fuel_type']]\n",
    "\n",
    "carsDF.dropna(inplace=True)"
   ]
  },
  {
   "cell_type": "code",
   "execution_count": 4,
   "metadata": {},
   "outputs": [],
   "source": [
    "# Исправили данные (выкинули лишнее)\n",
    "carsDF['mileage'] = carsDF['mileage'].apply(lambda x: x*1.60934)\n",
    "carsDF['price_rur'] = carsDF['price_eur'].apply(lambda x: x*69.3)\n",
    "del carsDF['price_eur']\n",
    "carsDF = carsDF.loc[carsDF['maker'] == \"bmw\"]"
   ]
  },
  {
   "cell_type": "code",
   "execution_count": 5,
   "metadata": {},
   "outputs": [],
   "source": [
    "# Делим признаки на категориальные и числовые\n",
    "trainDecimal = carsDF[['mileage','price_rur','engine_power','manufacture_year','engine_displacement']]\n",
    "trainCategorical = carsDF[['manufacture_year','maker','model','engine_displacement','fuel_type']].astype(str)\n",
    "\n",
    "trainCategoricalTransformed = MultiColumnLabelEncoder(columns = ['manufacture_year',\n",
    "                                               'maker',\n",
    "                                               'model',\n",
    "                                               'engine_displacement',\n",
    "                                               'fuel_type']).fit_transform(trainCategorical)"
   ]
  },
  {
   "cell_type": "code",
   "execution_count": 6,
   "metadata": {},
   "outputs": [
    {
     "name": "stderr",
     "output_type": "stream",
     "text": [
      "D:\\Anaconda\\lib\\site-packages\\sklearn\\preprocessing\\_encoders.py:415: FutureWarning: The handling of integer data will change in version 0.22. Currently, the categories are determined based on the range [0, max(values)], while in the future they will be determined based on the unique values.\n",
      "If you want the future behaviour and silence this warning, you can specify \"categories='auto'\".\n",
      "In case you used a LabelEncoder before this OneHotEncoder to convert the categories to integers, then you can now use the OneHotEncoder directly.\n",
      "  warnings.warn(msg, FutureWarning)\n"
     ]
    }
   ],
   "source": [
    "# Нормализация\n",
    "scaler = StandardScaler()\n",
    "scaler.fit(trainDecimal)\n",
    "trainDecimalTransformed = scaler.transform(trainDecimal)\n",
    "\n",
    "ohe = OneHotEncoder(sparse = False)\n",
    "ohe.fit(trainCategoricalTransformed)\n",
    "trainTransformed = ohe.transform(trainCategoricalTransformed)\n",
    "\n",
    "#total =trainDecimalTransformed\n",
    "total = np.hstack((trainTransformed,trainDecimalTransformed))"
   ]
  },
  {
   "cell_type": "code",
   "execution_count": 10,
   "metadata": {},
   "outputs": [],
   "source": [
    "# Обучаем и предсказываем\n",
    "y_pred = KMeans(n_clusters=3, random_state=0).fit_predict(total)"
   ]
  },
  {
   "cell_type": "code",
   "execution_count": 11,
   "metadata": {},
   "outputs": [
    {
     "data": {
      "text/plain": [
       "<matplotlib.collections.PathCollection at 0x1ce0ea7eac8>"
      ]
     },
     "execution_count": 11,
     "metadata": {},
     "output_type": "execute_result"
    },
    {
     "data": {
      "image/png": "[encoded data removed]",
      "text/plain": [
       "<Figure size 432x288 with 1 Axes>"
      ]
     },
     "metadata": {
      "needs_background": "light"
     },
     "output_type": "display_data"
    }
   ],
   "source": [
    "#Рисуем график как разбило по кластерам признак 0-го столбца по отношению ко N-му\n",
    "plt.subplot(221)\n",
    "plt.scatter(total[:, 0], total[:, 2], c=y_pred)\n",
    "# 0- millage, 1 - price_rur, 2 - engine_power, 3 - manufacture_year, 4 - engine_displacement"
   ]
  },
  {
   "cell_type": "code",
   "execution_count": null,
   "metadata": {},
   "outputs": [],
   "source": [
    "#score = accuracy_score(total,y_pred)\n",
    "#print('Accuracy:{0:f}'.format(score))"
   ]
  },
  {
   "cell_type": "code",
   "execution_count": null,
   "metadata": {},
   "outputs": [],
   "source": [
    "# Нужно слепить предсказания То есть carsDF[CarRang] = y_pred"
   ]
  },
  {
   "cell_type": "code",
   "execution_count": 13,
   "metadata": {},
   "outputs": [],
   "source": [
    "carsDF['CarRang'] = y_pred"
   ]
  },
  {
   "cell_type": "code",
   "execution_count": 15,
   "metadata": {},
   "outputs": [],
   "source": [
    "classificationCarsDF = carsDF\n",
    "#del classificationCarsDF['maker'], classificationCarsDF['model'], classificationCarsDF['fuel_type']"
   ]
  },
  {
   "cell_type": "code",
   "execution_count": null,
   "metadata": {},
   "outputs": [],
   "source": [
    "classificationCarsDF.to_csv('C:/Users/kazan/Desktop/BMW_result_for_classification.csv', index=False)"
   ]
  },
  {
   "cell_type": "code",
   "execution_count": null,
   "metadata": {},
   "outputs": [],
   "source": []
  },
  {
   "cell_type": "code",
   "execution_count": 17,
   "metadata": {},
   "outputs": [],
   "source": [
    "# Делим признаки на категориальные и числовые\n",
    "trainDecimal = classificationCarsDF[['mileage','price_rur','engine_power','manufacture_year','engine_displacement']]\n",
    "trainCategorical = classificationCarsDF[['manufacture_year','maker','model','engine_displacement','fuel_type']].astype(str)\n",
    "\n",
    "trainCategoricalTransformed = MultiColumnLabelEncoder(columns = ['manufacture_year',\n",
    "                                                                 'maker',\n",
    "                                                                 'model',\n",
    "                                                                 'engine_displacement',\n",
    "                                                                 'fuel_type'])\n",
    "                                                        .fit_transform(trainCategorical)"
   ]
  },
  {
   "cell_type": "code",
   "execution_count": 18,
   "metadata": {
    "scrolled": true
   },
   "outputs": [
    {
     "name": "stderr",
     "output_type": "stream",
     "text": [
      "D:\\Anaconda\\lib\\site-packages\\sklearn\\preprocessing\\_encoders.py:415: FutureWarning: The handling of integer data will change in version 0.22. Currently, the categories are determined based on the range [0, max(values)], while in the future they will be determined based on the unique values.\n",
      "If you want the future behaviour and silence this warning, you can specify \"categories='auto'\".\n",
      "In case you used a LabelEncoder before this OneHotEncoder to convert the categories to integers, then you can now use the OneHotEncoder directly.\n",
      "  warnings.warn(msg, FutureWarning)\n"
     ]
    }
   ],
   "source": [
    "scaler = StandardScaler()\n",
    "scaler.fit(trainDecimal)\n",
    "trainDecimalTransformed = scaler.transform(trainDecimal)\n",
    "\n",
    "ohe.fit(trainCategoricalTransformed)\n",
    "trainTransformed = ohe.transform(trainCategoricalTransformed)\n",
    "totalClassification = np.hstack((trainTransformed,trainDecimalTransformed))\n",
    "X = totalClassification\n",
    "Y = carsDF['CarRang'] "
   ]
  },
  {
   "cell_type": "code",
   "execution_count": 34,
   "metadata": {},
   "outputs": [],
   "source": [
    "# split data into train and test sets\n",
    "test_size = 0.33\n",
    "X_train, X_test, y_train, y_test = train_test_split(X, Y, test_size=test_size, random_state=seed)"
   ]
  },
  {
   "cell_type": "code",
   "execution_count": null,
   "metadata": {},
   "outputs": [],
   "source": [
    "params = {'min_child_weight':[4, 5, 8, 12, 18, 22],\n",
    "          'n_estimators': [ 6, 8, 10 ,14, 18, 22],\n",
    "          'max_depth': [6, 8, 10, 12, 14, 18, 22]\n",
    "         }\n",
    "model = xgb.XGBClassifier(seed = 0, random_state = 0, silent = 1)\n",
    "grid_search = GridSearchCV (model, params, cv = 5)\n",
    "grid_search.fit(X_train, y_train)\n",
    "Y_pred = grid_search.predict (X_test)"
   ]
  },
  {
   "cell_type": "code",
   "execution_count": null,
   "metadata": {},
   "outputs": [],
   "source": [
    "# evaluate predictions\n",
    "accuracy = accuracy_score(y_test, Y_pred)\n",
    "print(\"Accuracy: %.2f%%\" % (accuracy * 100.0))"
   ]
  },
  {
   "cell_type": "code",
   "execution_count": null,
   "metadata": {},
   "outputs": [],
   "source": []
  }
 ],
 "metadata": {
  "kernelspec": {
   "display_name": "Python 3",
   "language": "python",
   "name": "python3"
  },
  "language_info": {
   "codemirror_mode": {
    "name": "ipython",
    "version": 3
   },
   "file_extension": ".py",
   "mimetype": "text/x-python",
   "name": "python",
   "nbconvert_exporter": "python",
   "pygments_lexer": "ipython3",
   "version": "3.7.3"
  }
 },
 "nbformat": 4,
 "nbformat_minor": 2
}
