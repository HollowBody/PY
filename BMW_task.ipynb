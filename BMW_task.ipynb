{
 "cells": [
  {
   "cell_type": "code",
   "execution_count": 1,
   "metadata": {},
   "outputs": [],
   "source": [
    "import pandas as pd\n",
    "import numpy as np\n",
    "import matplotlib.pyplot as plt\n",
    "from sklearn.preprocessing import StandardScaler,Normalizer\n",
    "from sklearn.preprocessing import LabelEncoder, OneHotEncoder\n",
    "from sklearn import datasets\n",
    "from sklearn.cluster import KMeans\n"
   ]
  },
  {
   "cell_type": "code",
   "execution_count": 2,
   "metadata": {},
   "outputs": [],
   "source": [
    "class MultiColumnLabelEncoder:\n",
    "    def __init__(self,columns = None):\n",
    "        self.columns = columns # array of column names to encode\n",
    "\n",
    "    def fit(self,X,y=None):\n",
    "        return self # not relevant here\n",
    "\n",
    "    def transform(self,X):\n",
    "        output = X.copy()\n",
    "        if self.columns is not None:\n",
    "            for col in self.columns:\n",
    "                output[col] = LabelEncoder().fit_transform(output[col])\n",
    "        else:\n",
    "            for colname,col in output.iteritems():\n",
    "                output[colname] = LabelEncoder().fit_transform(col)\n",
    "        return output\n",
    "\n",
    "    def fit_transform(self,X,y=None):\n",
    "        return self.fit(X,y).transform(X)"
   ]
  },
  {
   "cell_type": "code",
   "execution_count": 3,
   "metadata": {},
   "outputs": [
    {
     "name": "stderr",
     "output_type": "stream",
     "text": [
      "D:\\Anaconda\\lib\\site-packages\\IPython\\core\\interactiveshell.py:3058: DtypeWarning: Columns (7,8,10,11,12) have mixed types. Specify dtype option on import or set low_memory=False.\n",
      "  interactivity=interactivity, compiler=compiler, result=result)\n"
     ]
    }
   ],
   "source": [
    "# Загрузили DF\n",
    "carsDF = pd.read_csv(\"C:/Users/kazan/Desktop/carsdataset.csv\")\n",
    "carsDF = carsDF[['maker',\n",
    "          'model',\n",
    "          'mileage',\n",
    "          'manufacture_year',\n",
    "          'engine_displacement',\n",
    "          'engine_power',\n",
    "          'price_eur',\n",
    "         'fuel_type']]\n",
    "carsDF.dropna(inplace=True)\n",
    "\n",
    "ohe = OneHotEncoder(sparse = False)"
   ]
  },
  {
   "cell_type": "code",
   "execution_count": 4,
   "metadata": {},
   "outputs": [],
   "source": [
    "# Исправили данные (выкинули лишнее)\n",
    "carsDF['mileage'] = carsDF['mileage'].apply(lambda x: x*1.60934)\n",
    "carsDF['price_rur'] = carsDF['price_eur'].apply(lambda x: x*69.3)\n",
    "carsDF = carsDF.loc[carsDF['maker'] == \"bmw\"]"
   ]
  },
  {
   "cell_type": "code",
   "execution_count": 5,
   "metadata": {},
   "outputs": [],
   "source": [
    "# Делим признаки на категориальные и числовые\n",
    "trainDecimal = carsDF[['mileage','price_rur','engine_power','manufacture_year','engine_displacement']]\n",
    "trainCategorical = carsDF[['manufacture_year','maker','model','engine_displacement','fuel_type']].astype(str)\n",
    "\n",
    "trainCategoricalTransformed = MultiColumnLabelEncoder(columns = ['manufacture_year',\n",
    "                                               'maker',\n",
    "                                               'model',\n",
    "                                               'engine_displacement',\n",
    "                                               'fuel_type']).fit_transform(trainCategorical)"
   ]
  },
  {
   "cell_type": "code",
   "execution_count": 6,
   "metadata": {},
   "outputs": [
    {
     "name": "stderr",
     "output_type": "stream",
     "text": [
      "D:\\Anaconda\\lib\\site-packages\\sklearn\\preprocessing\\_encoders.py:415: FutureWarning: The handling of integer data will change in version 0.22. Currently, the categories are determined based on the range [0, max(values)], while in the future they will be determined based on the unique values.\n",
      "If you want the future behaviour and silence this warning, you can specify \"categories='auto'\".\n",
      "In case you used a LabelEncoder before this OneHotEncoder to convert the categories to integers, then you can now use the OneHotEncoder directly.\n",
      "  warnings.warn(msg, FutureWarning)\n"
     ]
    }
   ],
   "source": [
    "# Нормализация\n",
    "scaler = Normalizer()\n",
    "scaler.fit(trainDecimal)\n",
    "trainDecimalTransformed = scaler.transform(trainDecimal)\n",
    "\n",
    "ohe.fit(trainCategoricalTransformed)\n",
    "trainTransformed = ohe.transform(trainCategoricalTransformed)\n",
    "trainTransformed.shape\n",
    "total =trainDecimalTransformed\n",
    "#total = np.hstack((trainTransformed,trainDecimalTransformed))"
   ]
  },
  {
   "cell_type": "code",
   "execution_count": 7,
   "metadata": {},
   "outputs": [
    {
     "data": {
      "text/plain": [
       "array([[1.11989321e-01, 9.93706665e-01, 1.45291982e-04, 1.29665022e-03,\n",
       "        1.93722643e-03],\n",
       "       [9.27692033e-03, 9.99956615e-01, 4.13856181e-05, 5.95657288e-04,\n",
       "        5.91223115e-04],\n",
       "       [4.18130691e-01, 9.08376898e-01, 1.88956372e-04, 2.36785954e-03,\n",
       "        3.53466514e-03],\n",
       "       [7.03520527e-03, 9.99974888e-01, 4.48963299e-05, 4.75901097e-04,\n",
       "        7.07235344e-04],\n",
       "       [5.42780344e-01, 8.39865800e-01, 1.50149665e-04, 2.73818389e-03,\n",
       "        2.72316893e-03],\n",
       "       [9.07856381e-02, 9.95869059e-01, 8.32304072e-05, 9.29406213e-04,\n",
       "        1.38393671e-03],\n",
       "       [2.96982849e-03, 9.99995290e-01, 4.07035508e-05, 4.31671868e-04,\n",
       "        6.41188040e-04],\n",
       "       [3.36025562e-03, 9.99994059e-01, 6.75394776e-05, 4.29099394e-04,\n",
       "        6.34700643e-04],\n",
       "       [1.26116551e-02, 9.99920018e-01, 8.07163482e-05, 3.94569722e-04,\n",
       "        8.61039686e-04],\n",
       "       [3.58148351e-03, 9.99993379e-01, 4.98497711e-05, 3.58562282e-04,\n",
       "        5.32858446e-04]])"
      ]
     },
     "execution_count": 7,
     "metadata": {},
     "output_type": "execute_result"
    }
   ],
   "source": [
    "total[:10]"
   ]
  },
  {
   "cell_type": "code",
   "execution_count": null,
   "metadata": {},
   "outputs": [],
   "source": [
    "carsDF"
   ]
  },
  {
   "cell_type": "code",
   "execution_count": null,
   "metadata": {},
   "outputs": [],
   "source": [
    "trainCategorical"
   ]
  },
  {
   "cell_type": "code",
   "execution_count": 25,
   "metadata": {},
   "outputs": [
    {
     "data": {
      "text/html": [
       "<div>\n",
       "<style scoped>\n",
       "    .dataframe tbody tr th:only-of-type {\n",
       "        vertical-align: middle;\n",
       "    }\n",
       "\n",
       "    .dataframe tbody tr th {\n",
       "        vertical-align: top;\n",
       "    }\n",
       "\n",
       "    .dataframe thead th {\n",
       "        text-align: right;\n",
       "    }\n",
       "</style>\n",
       "<table border=\"1\" class=\"dataframe\">\n",
       "  <thead>\n",
       "    <tr style=\"text-align: right;\">\n",
       "      <th></th>\n",
       "      <th>mileage</th>\n",
       "      <th>price_rur</th>\n",
       "      <th>engine_power</th>\n",
       "      <th>manufacture_year</th>\n",
       "      <th>engine_displacement</th>\n",
       "    </tr>\n",
       "  </thead>\n",
       "  <tbody>\n",
       "    <tr>\n",
       "      <td>89</td>\n",
       "      <td>173427.30642</td>\n",
       "      <td>1538859.861</td>\n",
       "      <td>225.0</td>\n",
       "      <td>2008.0</td>\n",
       "      <td>3000.0</td>\n",
       "    </tr>\n",
       "    <tr>\n",
       "      <td>499</td>\n",
       "      <td>31382.13000</td>\n",
       "      <td>3382670.907</td>\n",
       "      <td>140.0</td>\n",
       "      <td>2015.0</td>\n",
       "      <td>2000.0</td>\n",
       "    </tr>\n",
       "    <tr>\n",
       "      <td>780</td>\n",
       "      <td>354054.80000</td>\n",
       "      <td>769173.867</td>\n",
       "      <td>160.0</td>\n",
       "      <td>2005.0</td>\n",
       "      <td>2993.0</td>\n",
       "    </tr>\n",
       "    <tr>\n",
       "      <td>846</td>\n",
       "      <td>29772.79000</td>\n",
       "      <td>4231865.484</td>\n",
       "      <td>190.0</td>\n",
       "      <td>2014.0</td>\n",
       "      <td>2993.0</td>\n",
       "    </tr>\n",
       "    <tr>\n",
       "      <td>948</td>\n",
       "      <td>397642.16456</td>\n",
       "      <td>615287.673</td>\n",
       "      <td>110.0</td>\n",
       "      <td>2006.0</td>\n",
       "      <td>1995.0</td>\n",
       "    </tr>\n",
       "    <tr>\n",
       "      <td>...</td>\n",
       "      <td>...</td>\n",
       "      <td>...</td>\n",
       "      <td>...</td>\n",
       "      <td>...</td>\n",
       "      <td>...</td>\n",
       "    </tr>\n",
       "    <tr>\n",
       "      <td>3551466</td>\n",
       "      <td>0.00000</td>\n",
       "      <td>89767.062</td>\n",
       "      <td>170.0</td>\n",
       "      <td>2001.0</td>\n",
       "      <td>2979.0</td>\n",
       "    </tr>\n",
       "    <tr>\n",
       "      <td>3551559</td>\n",
       "      <td>217260.90000</td>\n",
       "      <td>89767.062</td>\n",
       "      <td>413.0</td>\n",
       "      <td>2010.0</td>\n",
       "      <td>4400.0</td>\n",
       "    </tr>\n",
       "    <tr>\n",
       "      <td>3551614</td>\n",
       "      <td>302555.92000</td>\n",
       "      <td>89767.062</td>\n",
       "      <td>87.0</td>\n",
       "      <td>2000.0</td>\n",
       "      <td>1895.0</td>\n",
       "    </tr>\n",
       "    <tr>\n",
       "      <td>3551619</td>\n",
       "      <td>450615.20000</td>\n",
       "      <td>89767.062</td>\n",
       "      <td>170.0</td>\n",
       "      <td>2006.0</td>\n",
       "      <td>3000.0</td>\n",
       "    </tr>\n",
       "    <tr>\n",
       "      <td>3551631</td>\n",
       "      <td>482802.00000</td>\n",
       "      <td>89767.062</td>\n",
       "      <td>160.0</td>\n",
       "      <td>1234.0</td>\n",
       "      <td>2993.0</td>\n",
       "    </tr>\n",
       "  </tbody>\n",
       "</table>\n",
       "<p>25114 rows × 5 columns</p>\n",
       "</div>"
      ],
      "text/plain": [
       "              mileage    price_rur  engine_power  manufacture_year  \\\n",
       "89       173427.30642  1538859.861         225.0            2008.0   \n",
       "499       31382.13000  3382670.907         140.0            2015.0   \n",
       "780      354054.80000   769173.867         160.0            2005.0   \n",
       "846       29772.79000  4231865.484         190.0            2014.0   \n",
       "948      397642.16456   615287.673         110.0            2006.0   \n",
       "...               ...          ...           ...               ...   \n",
       "3551466       0.00000    89767.062         170.0            2001.0   \n",
       "3551559  217260.90000    89767.062         413.0            2010.0   \n",
       "3551614  302555.92000    89767.062          87.0            2000.0   \n",
       "3551619  450615.20000    89767.062         170.0            2006.0   \n",
       "3551631  482802.00000    89767.062         160.0            1234.0   \n",
       "\n",
       "         engine_displacement  \n",
       "89                    3000.0  \n",
       "499                   2000.0  \n",
       "780                   2993.0  \n",
       "846                   2993.0  \n",
       "948                   1995.0  \n",
       "...                      ...  \n",
       "3551466               2979.0  \n",
       "3551559               4400.0  \n",
       "3551614               1895.0  \n",
       "3551619               3000.0  \n",
       "3551631               2993.0  \n",
       "\n",
       "[25114 rows x 5 columns]"
      ]
     },
     "execution_count": 25,
     "metadata": {},
     "output_type": "execute_result"
    }
   ],
   "source": [
    "trainDecimal"
   ]
  },
  {
   "cell_type": "code",
   "execution_count": null,
   "metadata": {},
   "outputs": [],
   "source": [
    "trainCategoricalTransformed"
   ]
  },
  {
   "cell_type": "code",
   "execution_count": 24,
   "metadata": {},
   "outputs": [
    {
     "data": {
      "text/plain": [
       "array([[1.11989321e-01, 9.93706665e-01, 1.45291982e-04, 1.29665022e-03,\n",
       "        1.93722643e-03],\n",
       "       [9.27692033e-03, 9.99956615e-01, 4.13856181e-05, 5.95657288e-04,\n",
       "        5.91223115e-04],\n",
       "       [4.18130691e-01, 9.08376898e-01, 1.88956372e-04, 2.36785954e-03,\n",
       "        3.53466514e-03],\n",
       "       ...,\n",
       "       [9.58657164e-01, 2.84429526e-01, 2.75662011e-04, 6.33705772e-03,\n",
       "        6.00436219e-03],\n",
       "       [9.80699067e-01, 1.95365079e-01, 3.69980510e-04, 4.36577002e-03,\n",
       "        6.52906782e-03],\n",
       "       [9.83129341e-01, 1.82792599e-01, 3.25807877e-04, 2.51279325e-03,\n",
       "        6.09464360e-03]])"
      ]
     },
     "execution_count": 24,
     "metadata": {},
     "output_type": "execute_result"
    }
   ],
   "source": [
    "trainDecimalTransformed"
   ]
  },
  {
   "cell_type": "code",
   "execution_count": null,
   "metadata": {},
   "outputs": [],
   "source": [
    "trainTransformed"
   ]
  },
  {
   "cell_type": "code",
   "execution_count": null,
   "metadata": {
    "scrolled": true
   },
   "outputs": [],
   "source": [
    "feature_names = ohe.get_feature_names()"
   ]
  },
  {
   "cell_type": "code",
   "execution_count": null,
   "metadata": {},
   "outputs": [],
   "source": [
    "# Чтобы убедиться, что наша оценка работает правильно посмотрим на первый ряд закодированных данных.\n",
    "row0 = trainTransformed[0]"
   ]
  },
  {
   "cell_type": "code",
   "execution_count": null,
   "metadata": {},
   "outputs": [],
   "source": [
    "# Выведем имена Features для 1го объекта\n",
    "feature_names[row0 == 1]"
   ]
  },
  {
   "cell_type": "code",
   "execution_count": null,
   "metadata": {},
   "outputs": [],
   "source": [
    "ohe.inverse_transform([row0])"
   ]
  },
  {
   "cell_type": "code",
   "execution_count": null,
   "metadata": {},
   "outputs": [],
   "source": [
    "# проверяем, что работает и обратно\n",
    "hs_inv = ohe.inverse_transform(trainTransformed)"
   ]
  },
  {
   "cell_type": "code",
   "execution_count": null,
   "metadata": {},
   "outputs": [],
   "source": [
    "total"
   ]
  },
  {
   "cell_type": "code",
   "execution_count": 14,
   "metadata": {},
   "outputs": [],
   "source": [
    "# Обучаем и предсказываем\n",
    "y_pred = KMeans(n_clusters=3, random_state=0).fit_predict(total)"
   ]
  },
  {
   "cell_type": "code",
   "execution_count": 23,
   "metadata": {},
   "outputs": [
    {
     "data": {
      "text/plain": [
       "<matplotlib.collections.PathCollection at 0x2c16c694588>"
      ]
     },
     "execution_count": 23,
     "metadata": {},
     "output_type": "execute_result"
    },
    {
     "data": {
      "image/png": "[encoded data removed]",
      "text/plain": [
       "<Figure size 432x288 with 1 Axes>"
      ]
     },
     "metadata": {
      "needs_background": "light"
     },
     "output_type": "display_data"
    }
   ],
   "source": [
    "#Рисуем график как разбило по кластерам признак 0-го столбца по отношению ко N-му\n",
    "plt.subplot(221)\n",
    "plt.scatter(total[:, 0], total[:, 2], c=y_pred)\n",
    "# 0- millage, 1 - price_rur, 2 - engine_power, 3 - manufacture_year, 4 - engine_displacement"
   ]
  },
  {
   "cell_type": "code",
   "execution_count": 22,
   "metadata": {},
   "outputs": [
    {
     "data": {
      "text/plain": [
       "array([0, 0, 2, 0, 2, 0, 0, 0, 0, 0, 0, 0, 2, 0, 0, 0, 2, 0, 0, 0, 0, 0,\n",
       "       0, 2, 2, 0, 0, 2, 2, 0, 2, 2, 0, 0, 0, 0, 0, 0, 0, 0, 0, 0, 0, 2,\n",
       "       0, 0, 0, 0, 2, 0, 2, 2, 2, 2, 2, 2, 0, 2, 0, 0, 0, 0, 2, 2, 0, 0,\n",
       "       0, 0, 0, 0, 0, 2, 2, 0, 0, 0, 0, 0, 0, 0, 2, 0, 0, 0, 0, 0, 2, 0,\n",
       "       2, 0, 0, 0, 0, 0, 0, 0, 2, 2, 1, 2])"
      ]
     },
     "execution_count": 22,
     "metadata": {},
     "output_type": "execute_result"
    }
   ],
   "source": [
    "y_pred[:100]"
   ]
  },
  {
   "cell_type": "code",
   "execution_count": null,
   "metadata": {},
   "outputs": [],
   "source": [
    "# Нужно слепить предсказания То есть carsDF[CarRang] = y_pred"
   ]
  },
  {
   "cell_type": "code",
   "execution_count": null,
   "metadata": {},
   "outputs": [],
   "source": []
  }
 ],
 "metadata": {
  "kernelspec": {
   "display_name": "Python 3",
   "language": "python",
   "name": "python3"
  },
  "language_info": {
   "codemirror_mode": {
    "name": "ipython",
    "version": 3
   },
   "file_extension": ".py",
   "mimetype": "text/x-python",
   "name": "python",
   "nbconvert_exporter": "python",
   "pygments_lexer": "ipython3",
   "version": "3.7.4"
  }
 },
 "nbformat": 4,
 "nbformat_minor": 2
}
